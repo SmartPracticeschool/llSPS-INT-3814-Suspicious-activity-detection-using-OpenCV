{
 "cells": [
  {
   "cell_type": "code",
   "execution_count": 1,
   "metadata": {},
   "outputs": [],
   "source": [
    "from tensorflow.keras.models import load_model\n",
    "import numpy as np"
   ]
  },
  {
   "cell_type": "code",
   "execution_count": 2,
   "metadata": {},
   "outputs": [],
   "source": [
    "import cv2"
   ]
  },
  {
   "cell_type": "code",
   "execution_count": 3,
   "metadata": {},
   "outputs": [],
   "source": [
    "model = load_model('final.h5')"
   ]
  },
  {
   "cell_type": "code",
   "execution_count": 4,
   "metadata": {},
   "outputs": [],
   "source": [
    "from skimage.transform import resize"
   ]
  },
  {
   "cell_type": "code",
   "execution_count": 5,
   "metadata": {},
   "outputs": [],
   "source": [
    "def detect(frame):\n",
    "    try:\n",
    "        img = resize(frame,(64, 64))\n",
    "        img = np.expand_dims(img, axis = 0)\n",
    "        if(np.max(img) > 1):\n",
    "            img = img/255.0\n",
    "        prediction = model.predict(img)\n",
    "        return model.predict_classes(img)\n",
    "    except AttributeError:\n",
    "        print(\"Shape not found\")\n",
    "        "
   ]
  },
  {
   "cell_type": "markdown",
   "metadata": {},
   "source": [
    "# {'Normal': 0, 'Robbery': 1, 'Vandalism': 2}"
   ]
  },
  {
   "cell_type": "raw",
   "metadata": {},
   "source": [
    "Sending Email Alerts"
   ]
  },
  {
   "cell_type": "code",
   "execution_count": 6,
   "metadata": {},
   "outputs": [],
   "source": [
    "import smtplib\n",
    "from email.message import EmailMessage\n",
    "def email_alert(body):\n",
    "    msg = EmailMessage()\n",
    "    text = \"Dear User,\\nPlease check your surveillance video.\\nIt seems like \"+body.upper()+\" is happening!\"\n",
    "    msg.set_content(text)\n",
    "    msg['subject'] = 'Alert!'\n",
    "    msg['to'] = 'To_ACCOUNT'\n",
    "    \n",
    "    user = \"ACCOUNT_NAME\"\n",
    "    password = \"PASSWORD\"\n",
    "    msg['from'] = user\n",
    "    \n",
    "    server = smtplib.SMTP(\"smtp.gmail.com\", 587)\n",
    "    server.starttls()\n",
    "    server.login(user,password)\n",
    "    server.send_message(msg)\n",
    "    \n",
    "    server.quit()\n",
    "    "
   ]
  },
  {
   "cell_type": "raw",
   "metadata": {},
   "source": [
    "For sending SMS"
   ]
  },
  {
   "cell_type": "code",
   "execution_count": 7,
   "metadata": {},
   "outputs": [],
   "source": [
    "import os\n",
    "from twilio.rest import Client\n",
    "\n",
    "def msg_alert(body):\n",
    "    account_sid = os.environ[\"YOUR_TWILIO_ACCOUNT_SID\"]\n",
    "    auth_token = os.environ[\"YOUR_TWILIO_AUTH_TOKEN\"]\n",
    "    client = Client(account_sid,auth_token)\n",
    "    text = \"ALERT\\nDear user,please check your surveillance video, It seems like \"+body+\" is happening!\"\n",
    "\n",
    "    client.messages.create(to=os.environ[\"YOUR_PHONE_NUMBER\"],\n",
    "                      from_=\"YOUR_TWILIO_NUMBER\",\n",
    "                      body=text)"
   ]
  },
  {
   "cell_type": "code",
   "execution_count": 8,
   "metadata": {},
   "outputs": [
    {
     "name": "stdout",
     "output_type": "stream",
     "text": [
      "WARNING:tensorflow:From <ipython-input-5-48e3c37ad0f5>:8: Sequential.predict_classes (from tensorflow.python.keras.engine.sequential) is deprecated and will be removed after 2021-01-01.\n",
      "Instructions for updating:\n",
      "Please use instead:* `np.argmax(model.predict(x), axis=-1)`,   if your model does multi-class classification   (e.g. if it uses a `softmax` last-layer activation).* `(model.predict(x) > 0.5).astype(\"int32\")`,   if your model does binary classification   (e.g. if it uses a `sigmoid` last-layer activation).\n"
     ]
    }
   ],
   "source": [
    "import numpy as np\n",
    "import cv2\n",
    "v = 1   #for vandalism\n",
    "r = 1   #for robbery\n",
    "\n",
    "cap = cv2.VideoCapture(0)\n",
    "\n",
    "frame_width = int( cap.get(cv2.CAP_PROP_FRAME_WIDTH))\n",
    "\n",
    "frame_height =int( cap.get( cv2.CAP_PROP_FRAME_HEIGHT))\n",
    "\n",
    "fourcc = cv2.VideoWriter_fourcc('X','V','I','D')\n",
    "\n",
    "out = cv2.VideoWriter(\"output.mp4\", fourcc, 5.0, (1280,720))\n",
    "\n",
    "while(True):\n",
    "    ret, frame = cap.read()\n",
    "\n",
    "    if not ret:\n",
    "        break\n",
    "    gray = cv2.cvtColor(frame, cv2.COLOR_BGR2GRAY)\n",
    "    image = cv2.resize(frame, (1280,720))\n",
    "    out.write(image)\n",
    "    d = detect(frame)\n",
    "    \n",
    "    \n",
    "    if d == 2:\n",
    "        cv2.putText(frame,\"Status:{}\".format('Vandalism'),(50,50), cv2.FONT_HERSHEY_SIMPLEX,1,(0,0,255),3)\n",
    "       \n",
    "        if v==1:\n",
    "            msg_alert('Vandalism')\n",
    "            email_alert(\"Vandalism\")\n",
    "            v=0\n",
    "            \n",
    "    elif d == 1:\n",
    "        cv2.putText(frame,\"Status:{}\".format('Robbery'),(50,50), cv2.FONT_HERSHEY_SIMPLEX,1,(0,0,255),3)\n",
    "        \n",
    "        if r==1:\n",
    "            msg_alert('Robbery')\n",
    "            email_alert(\"Robbery\")\n",
    "            r=0\n",
    "        \n",
    "    \n",
    "    # Display the resulting frame\n",
    "    cv2.imshow('OUTPUT',frame)\n",
    "    \n",
    "        \n",
    "    if cv2.waitKey(1) & 0xFF == ord('q'):\n",
    "        break\n",
    "\n",
    "cap.release()\n",
    "out.release()\n",
    "cv2.destroyAllWindows()"
   ]
  },
  {
   "cell_type": "code",
   "execution_count": null,
   "metadata": {},
   "outputs": [],
   "source": []
  }
 ],
 "metadata": {
  "kernelspec": {
   "display_name": "Python 3",
   "language": "python",
   "name": "python3"
  },
  "language_info": {
   "codemirror_mode": {
    "name": "ipython",
    "version": 3
   },
   "file_extension": ".py",
   "mimetype": "text/x-python",
   "name": "python",
   "nbconvert_exporter": "python",
   "pygments_lexer": "ipython3",
   "version": "3.7.4"
  }
 },
 "nbformat": 4,
 "nbformat_minor": 2
}
