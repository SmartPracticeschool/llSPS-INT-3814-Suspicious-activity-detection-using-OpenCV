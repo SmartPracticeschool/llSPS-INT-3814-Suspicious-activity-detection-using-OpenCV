{
 "cells": [
  {
   "cell_type": "code",
   "execution_count": 4,
   "metadata": {},
   "outputs": [],
   "source": [
    "# Importing the Keras libraries and packages\n",
    "from tensorflow.keras.models import Sequential\n",
    "from tensorflow.keras.layers import Convolution2D\n",
    "from tensorflow.keras.layers import MaxPooling2D\n",
    "from tensorflow.keras.layers import Flatten\n",
    "from tensorflow.keras.layers import Dense"
   ]
  },
  {
   "cell_type": "code",
   "execution_count": 5,
   "metadata": {},
   "outputs": [],
   "source": [
    "#Initializing the CNN\n",
    "classifier = Sequential()"
   ]
  },
  {
   "cell_type": "raw",
   "metadata": {},
   "source": [
    "Adding convolution and pooling layers"
   ]
  },
  {
   "cell_type": "code",
   "execution_count": 6,
   "metadata": {
    "colab": {},
    "colab_type": "code",
    "id": "48wz0vFwUQ9u"
   },
   "outputs": [],
   "source": [
    "classifier.add(Convolution2D(32, (3, 3), input_shape = (64,64,3), activation = 'relu'))"
   ]
  },
  {
   "cell_type": "code",
   "execution_count": 7,
   "metadata": {
    "colab": {},
    "colab_type": "code",
    "id": "fu-LAHqqURBE"
   },
   "outputs": [],
   "source": [
    "classifier.add(MaxPooling2D(pool_size = (2, 2)))"
   ]
  },
  {
   "cell_type": "code",
   "execution_count": 8,
   "metadata": {
    "colab": {},
    "colab_type": "code",
    "id": "S_I5V9lDUREa"
   },
   "outputs": [],
   "source": [
    "classifier.add(Convolution2D(32, (3, 3), activation = 'relu'))\n",
    "classifier.add(MaxPooling2D(pool_size = (2, 2)))"
   ]
  },
  {
   "cell_type": "code",
   "execution_count": 9,
   "metadata": {},
   "outputs": [],
   "source": [
    "classifier.add(Convolution2D(32, (3, 3), activation = 'relu'))\n",
    "classifier.add(MaxPooling2D(pool_size = (2, 2)))"
   ]
  },
  {
   "cell_type": "raw",
   "metadata": {},
   "source": [
    "Flattening the layers"
   ]
  },
  {
   "cell_type": "code",
   "execution_count": 10,
   "metadata": {
    "colab": {},
    "colab_type": "code",
    "id": "oNSWolfeUYfe"
   },
   "outputs": [],
   "source": [
    "classifier.add(Flatten())"
   ]
  },
  {
   "cell_type": "code",
   "execution_count": 11,
   "metadata": {
    "colab": {},
    "colab_type": "code",
    "id": "PHQUfL8DUaIB"
   },
   "outputs": [],
   "source": [
    "classifier.add(Dense(units = 128, activation = 'relu'))"
   ]
  },
  {
   "cell_type": "raw",
   "metadata": {},
   "source": [
    "Adding output layer"
   ]
  },
  {
   "cell_type": "code",
   "execution_count": 12,
   "metadata": {
    "colab": {},
    "colab_type": "code",
    "id": "8mQLtGqaUaK9"
   },
   "outputs": [],
   "source": [
    "classifier.add(Dense(units = 3, activation = 'softmax'))"
   ]
  },
  {
   "cell_type": "code",
   "execution_count": 13,
   "metadata": {},
   "outputs": [
    {
     "name": "stdout",
     "output_type": "stream",
     "text": [
      "Model: \"sequential\"\n",
      "_________________________________________________________________\n",
      "Layer (type)                 Output Shape              Param #   \n",
      "=================================================================\n",
      "conv2d (Conv2D)              (None, 62, 62, 32)        896       \n",
      "_________________________________________________________________\n",
      "max_pooling2d (MaxPooling2D) (None, 31, 31, 32)        0         \n",
      "_________________________________________________________________\n",
      "conv2d_1 (Conv2D)            (None, 29, 29, 32)        9248      \n",
      "_________________________________________________________________\n",
      "max_pooling2d_1 (MaxPooling2 (None, 14, 14, 32)        0         \n",
      "_________________________________________________________________\n",
      "conv2d_2 (Conv2D)            (None, 12, 12, 32)        9248      \n",
      "_________________________________________________________________\n",
      "max_pooling2d_2 (MaxPooling2 (None, 6, 6, 32)          0         \n",
      "_________________________________________________________________\n",
      "flatten (Flatten)            (None, 1152)              0         \n",
      "_________________________________________________________________\n",
      "dense (Dense)                (None, 128)               147584    \n",
      "_________________________________________________________________\n",
      "dense_1 (Dense)              (None, 3)                 387       \n",
      "=================================================================\n",
      "Total params: 167,363\n",
      "Trainable params: 167,363\n",
      "Non-trainable params: 0\n",
      "_________________________________________________________________\n"
     ]
    }
   ],
   "source": [
    "classifier.summary()"
   ]
  },
  {
   "cell_type": "raw",
   "metadata": {},
   "source": [
    "Compiling the model"
   ]
  },
  {
   "cell_type": "code",
   "execution_count": 14,
   "metadata": {
    "colab": {},
    "colab_type": "code",
    "id": "gAOuuvdLUaOI"
   },
   "outputs": [],
   "source": [
    "classifier.compile(optimizer = 'adam', loss = 'categorical_crossentropy', metrics = ['accuracy'])"
   ]
  },
  {
   "cell_type": "raw",
   "metadata": {},
   "source": [
    "Importing ImageDataGenerator"
   ]
  },
  {
   "cell_type": "code",
   "execution_count": 15,
   "metadata": {
    "colab": {},
    "colab_type": "code",
    "id": "XusNCFL4UaRs"
   },
   "outputs": [],
   "source": [
    "from keras.preprocessing.image import ImageDataGenerator"
   ]
  },
  {
   "cell_type": "code",
   "execution_count": 16,
   "metadata": {
    "colab": {},
    "colab_type": "code",
    "id": "6ILIx5VRWDgD"
   },
   "outputs": [],
   "source": [
    "train_datagen = ImageDataGenerator(\n",
    "        rescale=1./255,\n",
    "        shear_range=0.2,\n",
    "        zoom_range=0.2,\n",
    "        horizontal_flip=True)\n",
    "\n",
    "test_datagen = ImageDataGenerator(rescale=1./255)"
   ]
  },
  {
   "cell_type": "code",
   "execution_count": 17,
   "metadata": {},
   "outputs": [],
   "source": [
    "import sys\n",
    "import cv2\n",
    "import pandas as pd"
   ]
  },
  {
   "cell_type": "code",
   "execution_count": 18,
   "metadata": {
    "colab": {
     "base_uri": "https://localhost:8080/",
     "height": 34
    },
    "colab_type": "code",
    "id": "qXt6VPhqWDoR",
    "outputId": "e811bcfc-32e7-4834-9d1b-c83634a5edac"
   },
   "outputs": [
    {
     "name": "stdout",
     "output_type": "stream",
     "text": [
      "Found 4479 images belonging to 3 classes.\n"
     ]
    }
   ],
   "source": [
    "training_set = train_datagen.flow_from_directory('Dataset/ImageDataset/Training/',\n",
    "                                                  target_size=(64, 64),\n",
    "                                                  batch_size=32,\n",
    "                                                  class_mode='categorical')"
   ]
  },
  {
   "cell_type": "code",
   "execution_count": 19,
   "metadata": {
    "colab": {
     "base_uri": "https://localhost:8080/",
     "height": 34
    },
    "colab_type": "code",
    "id": "fpZKKPXHZVP9",
    "outputId": "c2049f77-3983-471d-a0d0-dde251ea1554"
   },
   "outputs": [
    {
     "name": "stdout",
     "output_type": "stream",
     "text": [
      "Found 1128 images belonging to 3 classes.\n"
     ]
    }
   ],
   "source": [
    "test_set = test_datagen.flow_from_directory('Dataset/ImageDataset/Testing/',\n",
    "                                            target_size=(64, 64),\n",
    "                                            batch_size=32,\n",
    "                                            class_mode='categorical')"
   ]
  },
  {
   "cell_type": "code",
   "execution_count": 20,
   "metadata": {},
   "outputs": [
    {
     "data": {
      "text/plain": [
       "{'Normal': 0, 'Robbery': 1, 'Vandalism': 2}"
      ]
     },
     "execution_count": 20,
     "metadata": {},
     "output_type": "execute_result"
    }
   ],
   "source": [
    "training_set.class_indices"
   ]
  },
  {
   "cell_type": "code",
   "execution_count": 21,
   "metadata": {},
   "outputs": [
    {
     "data": {
      "text/plain": [
       "{'Normal': 0, 'Robbery': 1, 'Vandalism': 2}"
      ]
     },
     "execution_count": 21,
     "metadata": {},
     "output_type": "execute_result"
    }
   ],
   "source": [
    "test_set.class_indices"
   ]
  },
  {
   "cell_type": "code",
   "execution_count": 22,
   "metadata": {
    "colab": {
     "base_uri": "https://localhost:8080/",
     "height": 996
    },
    "colab_type": "code",
    "id": "QMuRZ24hiDc5",
    "outputId": "56c4f4b7-0da0-4b08-9691-6b4f9e2653a3",
    "scrolled": false
   },
   "outputs": [
    {
     "name": "stdout",
     "output_type": "stream",
     "text": [
      "Train for 139 steps, validate for 35 steps\n",
      "Epoch 1/20\n",
      "139/139 [==============================] - 279s 2s/step - loss: 0.5967 - accuracy: 0.7666 - val_loss: 0.5355 - val_accuracy: 0.8214\n",
      "Epoch 2/20\n",
      "139/139 [==============================] - 62s 448ms/step - loss: 0.2981 - accuracy: 0.8950 - val_loss: 0.3667 - val_accuracy: 0.8777\n",
      "Epoch 3/20\n",
      "139/139 [==============================] - 112s 806ms/step - loss: 0.2078 - accuracy: 0.9321 - val_loss: 0.2423 - val_accuracy: 0.9250\n",
      "Epoch 4/20\n",
      "139/139 [==============================] - 62s 446ms/step - loss: 0.1510 - accuracy: 0.9508 - val_loss: 0.1498 - val_accuracy: 0.9554\n",
      "Epoch 5/20\n",
      "139/139 [==============================] - 62s 443ms/step - loss: 0.1103 - accuracy: 0.9669 - val_loss: 0.2406 - val_accuracy: 0.9214\n",
      "Epoch 6/20\n",
      "139/139 [==============================] - 54s 389ms/step - loss: 0.0929 - accuracy: 0.9714 - val_loss: 0.1285 - val_accuracy: 0.9554\n",
      "Epoch 7/20\n",
      "139/139 [==============================] - 57s 408ms/step - loss: 0.0827 - accuracy: 0.9764 - val_loss: 0.1285 - val_accuracy: 0.9482\n",
      "Epoch 8/20\n",
      "139/139 [==============================] - 56s 402ms/step - loss: 0.0664 - accuracy: 0.9780 - val_loss: 0.0956 - val_accuracy: 0.9643\n",
      "Epoch 9/20\n",
      "139/139 [==============================] - 52s 374ms/step - loss: 0.0568 - accuracy: 0.9831 - val_loss: 0.1038 - val_accuracy: 0.9634\n",
      "Epoch 10/20\n",
      "139/139 [==============================] - 52s 372ms/step - loss: 0.0544 - accuracy: 0.9849 - val_loss: 0.0499 - val_accuracy: 0.9812\n",
      "Epoch 11/20\n",
      "139/139 [==============================] - 52s 375ms/step - loss: 0.0445 - accuracy: 0.9854 - val_loss: 0.1181 - val_accuracy: 0.9598\n",
      "Epoch 12/20\n",
      "139/139 [==============================] - 52s 374ms/step - loss: 0.0475 - accuracy: 0.9852 - val_loss: 0.0699 - val_accuracy: 0.9759\n",
      "Epoch 13/20\n",
      "139/139 [==============================] - 52s 374ms/step - loss: 0.0450 - accuracy: 0.9865 - val_loss: 0.0373 - val_accuracy: 0.9821\n",
      "Epoch 14/20\n",
      "139/139 [==============================] - 52s 377ms/step - loss: 0.0361 - accuracy: 0.9885 - val_loss: 0.0559 - val_accuracy: 0.9830\n",
      "Epoch 15/20\n",
      "139/139 [==============================] - 50s 359ms/step - loss: 0.0318 - accuracy: 0.9912 - val_loss: 0.0559 - val_accuracy: 0.9804\n",
      "Epoch 16/20\n",
      "139/139 [==============================] - 48s 343ms/step - loss: 0.0275 - accuracy: 0.9917 - val_loss: 0.0329 - val_accuracy: 0.9911\n",
      "Epoch 17/20\n",
      "139/139 [==============================] - 47s 342ms/step - loss: 0.0267 - accuracy: 0.9915 - val_loss: 0.0851 - val_accuracy: 0.9741\n",
      "Epoch 18/20\n",
      "139/139 [==============================] - 48s 344ms/step - loss: 0.0247 - accuracy: 0.9933 - val_loss: 0.0638 - val_accuracy: 0.9795\n",
      "Epoch 19/20\n",
      "139/139 [==============================] - 47s 341ms/step - loss: 0.0352 - accuracy: 0.9883 - val_loss: 0.0360 - val_accuracy: 0.9884\n",
      "Epoch 20/20\n",
      "139/139 [==============================] - 48s 345ms/step - loss: 0.0221 - accuracy: 0.9935 - val_loss: 0.0413 - val_accuracy: 0.9875\n"
     ]
    },
    {
     "data": {
      "text/plain": [
       "<tensorflow.python.keras.callbacks.History at 0x24ce0a47048>"
      ]
     },
     "execution_count": 22,
     "metadata": {},
     "output_type": "execute_result"
    }
   ],
   "source": [
    "classifier.fit(\n",
    "        training_set,\n",
    "        steps_per_epoch=4479//32,\n",
    "        epochs = 20,\n",
    "        validation_data=test_set,\n",
    "        validation_steps = 1128//32)"
   ]
  },
  {
   "cell_type": "raw",
   "metadata": {},
   "source": [
    "Saving the model"
   ]
  },
  {
   "cell_type": "code",
   "execution_count": 23,
   "metadata": {},
   "outputs": [
    {
     "data": {
      "text/plain": [
       "{'Normal': 0, 'Robbery': 1, 'Vandalism': 2}"
      ]
     },
     "execution_count": 23,
     "metadata": {},
     "output_type": "execute_result"
    }
   ],
   "source": [
    "training_set.class_indices"
   ]
  },
  {
   "cell_type": "code",
   "execution_count": 24,
   "metadata": {
    "colab": {},
    "colab_type": "code",
    "id": "7lifLOZJiDgW"
   },
   "outputs": [],
   "source": [
    "classifier.save('final.h5')"
   ]
  },
  {
   "cell_type": "raw",
   "metadata": {},
   "source": [
    "Predicting output for a test image"
   ]
  },
  {
   "cell_type": "code",
   "execution_count": 25,
   "metadata": {
    "colab": {},
    "colab_type": "code",
    "id": "wavH7ixpiDtH"
   },
   "outputs": [],
   "source": [
    "# import numpy as np\n",
    "# from keras.preprocessing import image"
   ]
  },
  {
   "cell_type": "code",
   "execution_count": 26,
   "metadata": {
    "colab": {},
    "colab_type": "code",
    "id": "LTUHntHBu8nW"
   },
   "outputs": [],
   "source": [
    "# test_img = image.load_img('Dataset/ImageDataset/Testing_set/Normal/v_Normal_1.mp4_frame25.jpg', target_size = (64,64))"
   ]
  },
  {
   "cell_type": "code",
   "execution_count": 27,
   "metadata": {
    "colab": {},
    "colab_type": "code",
    "id": "XyRnaXXZu8s2"
   },
   "outputs": [],
   "source": [
    "# test_img = image.img_to_array(test_img)"
   ]
  },
  {
   "cell_type": "code",
   "execution_count": 28,
   "metadata": {
    "colab": {},
    "colab_type": "code",
    "id": "DEmUPJHyvCla"
   },
   "outputs": [],
   "source": [
    "# test_img = np.expand_dims(test_img, axis=0)"
   ]
  },
  {
   "cell_type": "code",
   "execution_count": 29,
   "metadata": {
    "colab": {},
    "colab_type": "code",
    "id": "JFZ2liTlvCor"
   },
   "outputs": [],
   "source": [
    "# result = classifier.predict(test_img)"
   ]
  },
  {
   "cell_type": "code",
   "execution_count": 30,
   "metadata": {
    "colab": {
     "base_uri": "https://localhost:8080/",
     "height": 34
    },
    "colab_type": "code",
    "id": "UEmUKdO8vCsT",
    "outputId": "41396952-6025-4e90-9400-9d1902656e94"
   },
   "outputs": [],
   "source": [
    "# training_set.class_indices"
   ]
  },
  {
   "cell_type": "code",
   "execution_count": 31,
   "metadata": {
    "colab": {
     "base_uri": "https://localhost:8080/",
     "height": 34
    },
    "colab_type": "code",
    "id": "ivvGvrqrEUn-",
    "outputId": "eaa36f96-367f-47c9-a5c7-6e5a45ccfe73"
   },
   "outputs": [],
   "source": [
    "# print(result)"
   ]
  },
  {
   "cell_type": "raw",
   "metadata": {
    "colab": {},
    "colab_type": "code",
    "id": "c1hyKIOQvCyK"
   },
   "source": [
    "if result[0][0] == 0:\n",
    "  prediction = 'Normal'\n",
    "else:\n",
    "  prediction = 'Suspicious'\n"
   ]
  },
  {
   "cell_type": "raw",
   "metadata": {
    "colab": {
     "base_uri": "https://localhost:8080/",
     "height": 35
    },
    "colab_type": "code",
    "id": "n5oAy4sEvCwO",
    "outputId": "523b13ec-d220-41c6-eb0e-e7efc616dd21"
   },
   "source": [
    "prediction"
   ]
  },
  {
   "cell_type": "raw",
   "metadata": {},
   "source": [
    "Model Evaluation"
   ]
  },
  {
   "cell_type": "raw",
   "metadata": {
    "colab": {},
    "colab_type": "code",
    "id": "-Hele6AZmB2o"
   },
   "source": [
    "import matplotlib.pyplot as plt\n",
    "import numpy as np"
   ]
  },
  {
   "cell_type": "raw",
   "metadata": {
    "colab": {
     "base_uri": "https://localhost:8080/",
     "height": 307
    },
    "colab_type": "code",
    "id": "EQbXCbGwwIWI",
    "outputId": "572b23b5-87fc-41f9-a93a-dd5dab9d3ee4"
   },
   "source": [
    "f, (ax1, ax2) = plt.subplots(1, 2, figsize=(12, 4))\n",
    "t = f.suptitle('Basic CNN Performance', fontsize=12)\n",
    "f.subplots_adjust(top=0.85, wspace=0.3)\n",
    "\n",
    "max_epoch = len(classifier.history.history['accuracy'])+1\n",
    "epoch_list = list(range(1,max_epoch))\n",
    "ax1.plot(epoch_list, classifier.history.history['accuracy'], label='Train Accuracy')\n",
    "ax1.plot(epoch_list, classifier.history.history['val_accuracy'], label='Validation Accuracy')\n",
    "ax1.set_xticks(np.arange(1, max_epoch, 5))\n",
    "ax1.set_ylabel('Accuracy Value')\n",
    "ax1.set_xlabel('Epoch')\n",
    "ax1.set_title('Accuracy')\n",
    "l1 = ax1.legend(loc=\"best\")\n",
    "\n",
    "ax2.plot(epoch_list, classifier.history.history['loss'], label='Train Loss')\n",
    "ax2.plot(epoch_list, classifier.history.history['val_loss'], label='Validation Loss')\n",
    "ax2.set_xticks(np.arange(1, max_epoch, 5))\n",
    "ax2.set_ylabel('Loss Value')\n",
    "ax2.set_xlabel('Epoch')\n",
    "ax2.set_title('Loss')\n",
    "l2 = ax2.legend(loc=\"best\")"
   ]
  },
  {
   "cell_type": "code",
   "execution_count": null,
   "metadata": {},
   "outputs": [],
   "source": []
  },
  {
   "cell_type": "code",
   "execution_count": null,
   "metadata": {},
   "outputs": [],
   "source": []
  }
 ],
 "metadata": {
  "colab": {
   "collapsed_sections": [],
   "name": "Malaria Prediction.ipynb",
   "provenance": []
  },
  "kernelspec": {
   "display_name": "Python 3",
   "language": "python",
   "name": "python3"
  },
  "language_info": {
   "codemirror_mode": {
    "name": "ipython",
    "version": 3
   },
   "file_extension": ".py",
   "mimetype": "text/x-python",
   "name": "python",
   "nbconvert_exporter": "python",
   "pygments_lexer": "ipython3",
   "version": "3.7.4"
  }
 },
 "nbformat": 4,
 "nbformat_minor": 1
}
