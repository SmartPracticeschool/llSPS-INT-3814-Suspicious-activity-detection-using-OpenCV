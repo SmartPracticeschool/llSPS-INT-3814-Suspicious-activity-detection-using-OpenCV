{
 "cells": [
  {
   "cell_type": "code",
   "execution_count": 6,
   "metadata": {},
   "outputs": [],
   "source": [
    "from glob import glob\n",
    "from tqdm import tqdm\n",
    "import sys\n",
    "import cv2\n",
    "import os"
   ]
  },
  {
   "cell_type": "code",
   "execution_count": 7,
   "metadata": {},
   "outputs": [
    {
     "name": "stderr",
     "output_type": "stream",
     "text": [
      "0it [00:00, ?it/s]\n"
     ]
    },
    {
     "name": "stdout",
     "output_type": "stream",
     "text": [
      "SUCCESS\n"
     ]
    }
   ],
   "source": [
    "videos = glob(\"Dataset/Training/Vandalism/*.mp4\")\n",
    "prediction=[]\n",
    "for i in tqdm(range(len(videos))):\n",
    "    count = 0\n",
    "    vidcap = cv2.VideoCapture(videos[i])\n",
    "    success,image = vidcap.read()\n",
    "    success = True\n",
    "    while success:\n",
    "        vidcap.set(cv2.CAP_PROP_POS_MSEC,(count*500))    # added this line \n",
    "        success,image = vidcap.read()\n",
    "        if not success:\n",
    "            break\n",
    "#         print ('Read a new frame: ', success)\n",
    "        cv2.imwrite( 'Dataset/ImageDataset/Training/Vandalism/' +videos[i].split('/')[2].split('\\\\')[1] + \"frame%d.jpg\" % count, image)     # save frame as JPEG file\n",
    "        count = count + 1\n",
    "print(\"SUCCESS\")"
   ]
  },
  {
   "cell_type": "code",
   "execution_count": 8,
   "metadata": {},
   "outputs": [
    {
     "name": "stderr",
     "output_type": "stream",
     "text": [
      "0it [00:00, ?it/s]\n"
     ]
    },
    {
     "name": "stdout",
     "output_type": "stream",
     "text": [
      "SUCCESS\n"
     ]
    }
   ],
   "source": [
    "videos = glob(\"Dataset/Training/Robbery/*.mp4\")\n",
    "prediction=[]\n",
    "for i in tqdm(range(len(videos))):\n",
    "    count = 0\n",
    "    vidcap = cv2.VideoCapture(videos[i])\n",
    "    success,image = vidcap.read()\n",
    "    success = True\n",
    "    while success:\n",
    "        vidcap.set(cv2.CAP_PROP_POS_MSEC,(count*500))    # added this line \n",
    "        success,image = vidcap.read()\n",
    "        if not success:\n",
    "            break\n",
    "#         print ('Read a new frame: ', success)\n",
    "        cv2.imwrite( 'Dataset/ImageDataset/Training/Robbery/' +videos[i].split('/')[2].split('\\\\')[1] + \"frame%d.jpg\" % count, image)     # save frame as JPEG file\n",
    "        count = count + 1\n",
    "print(\"SUCCESS\")"
   ]
  },
  {
   "cell_type": "code",
   "execution_count": 9,
   "metadata": {},
   "outputs": [
    {
     "name": "stderr",
     "output_type": "stream",
     "text": [
      "0it [00:00, ?it/s]\n"
     ]
    },
    {
     "name": "stdout",
     "output_type": "stream",
     "text": [
      "SUCCESS\n"
     ]
    }
   ],
   "source": [
    "videos = glob(\"Dataset/Testing/Vandalism/*.mp4\")\n",
    "prediction=[]\n",
    "for i in tqdm(range(len(videos))):\n",
    "    count = 0\n",
    "    vidcap = cv2.VideoCapture(videos[i])\n",
    "    success,image = vidcap.read()\n",
    "    success = True\n",
    "    while success:\n",
    "        vidcap.set(cv2.CAP_PROP_POS_MSEC,(count*500))    \n",
    "        success,image = vidcap.read()\n",
    "        if not success:\n",
    "            break\n",
    "#         print ('Read a new frame: ', success)\n",
    "        cv2.imwrite( 'Dataset/ImageDataset/Testing/Vandalism/' +videos[i].split('/')[2].split('\\\\')[1] + \"frame%d.jpg\" % count, image)     # save frame as JPEG file\n",
    "        count = count + 1\n",
    "print(\"SUCCESS\")"
   ]
  },
  {
   "cell_type": "code",
   "execution_count": 10,
   "metadata": {},
   "outputs": [
    {
     "name": "stderr",
     "output_type": "stream",
     "text": [
      "0it [00:00, ?it/s]\n"
     ]
    },
    {
     "name": "stdout",
     "output_type": "stream",
     "text": [
      "SUCCESS\n"
     ]
    }
   ],
   "source": [
    "videos = glob(\"Dataset/Testing/Robbery/*.mp4\")\n",
    "prediction=[]\n",
    "for i in tqdm(range(len(videos))):\n",
    "    count = 0\n",
    "    vidcap = cv2.VideoCapture(videos[i])\n",
    "    success,image = vidcap.read()\n",
    "    success = True\n",
    "    while success:\n",
    "        vidcap.set(cv2.CAP_PROP_POS_MSEC,(count*500))    \n",
    "        success,image = vidcap.read()\n",
    "        if not success:\n",
    "            break\n",
    "#         print ('Read a new frame: ', success)\n",
    "        cv2.imwrite( 'Dataset/ImageDataset/Testing/Robbery/' +videos[i].split('/')[2].split('\\\\')[1] + \"frame%d.jpg\" % count, image)     # save frame as JPEG file\n",
    "        count = count + 1\n",
    "print(\"SUCCESS\")"
   ]
  },
  {
   "cell_type": "code",
   "execution_count": null,
   "metadata": {},
   "outputs": [],
   "source": []
  }
 ],
 "metadata": {
  "kernelspec": {
   "display_name": "Python 3",
   "language": "python",
   "name": "python3"
  },
  "language_info": {
   "codemirror_mode": {
    "name": "ipython",
    "version": 3
   },
   "file_extension": ".py",
   "mimetype": "text/x-python",
   "name": "python",
   "nbconvert_exporter": "python",
   "pygments_lexer": "ipython3",
   "version": "3.7.4"
  }
 },
 "nbformat": 4,
 "nbformat_minor": 2
}
